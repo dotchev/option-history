{
 "cells": [
  {
   "cell_type": "code",
   "execution_count": 1,
   "metadata": {},
   "outputs": [],
   "source": [
    "from datetime import date\n",
    "from history import list_stock_splits\n",
    "\n",
    "from polygon import RESTClient\n",
    "client = RESTClient()  # POLYGON_API_KEY environment variable is used"
   ]
  },
  {
   "cell_type": "code",
   "execution_count": 4,
   "metadata": {},
   "outputs": [
    {
     "name": "stdout",
     "output_type": "stream",
     "text": [
      "Fetching price history for SMH from 2022-05-17 to 2024-05-17...\n",
      "WARNING: 1 stock splits in this period:\n",
      "[Split(execution_date='2023-05-05', split_from=1, split_to=2, ticker='SMH')]\n"
     ]
    }
   ],
   "source": [
    "symbol = 'SMH'\n",
    "\n",
    "to_date = date.today()\n",
    "# free plan provides only 2y of history\n",
    "from_date = to_date.replace(year=to_date.year - 2)\n",
    "\n",
    "print(\n",
    "    f'Fetching price history for {symbol} from {from_date} to {to_date}...')\n",
    "splits = list_stock_splits(symbol, from_date, to_date)\n"
   ]
  }
 ],
 "metadata": {
  "kernelspec": {
   "display_name": "Python 3",
   "language": "python",
   "name": "python3"
  },
  "language_info": {
   "codemirror_mode": {
    "name": "ipython",
    "version": 3
   },
   "file_extension": ".py",
   "mimetype": "text/x-python",
   "name": "python",
   "nbconvert_exporter": "python",
   "pygments_lexer": "ipython3",
   "version": "3.10.12"
  }
 },
 "nbformat": 4,
 "nbformat_minor": 2
}
