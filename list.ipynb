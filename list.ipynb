{
 "cells": [
  {
   "cell_type": "code",
   "execution_count": 7,
   "metadata": {},
   "outputs": [],
   "source": [
    "from polygon import RESTClient\n",
    "from datetime import date\n",
    "\n",
    "client = RESTClient()  # POLYGON_API_KEY environment variable is used"
   ]
  },
  {
   "cell_type": "code",
   "execution_count": 8,
   "metadata": {},
   "outputs": [],
   "source": [
    "# list stock history\n",
    "symbol = 'SMH'\n",
    "aggs = list(client.list_aggs(\n",
    "        ticker=symbol,\n",
    "        multiplier=1, \n",
    "        timespan='day',\n",
    "        from_='2023-05-01', \n",
    "        to='2023-05-10',\n",
    "        adjusted=False))\n",
    "\n",
    "# convert timestamps to dates\n",
    "for a in aggs:\n",
    "    a.timestamp = date.fromtimestamp(a.timestamp/1000) # Sunday for weekly data"
   ]
  },
  {
   "cell_type": "code",
   "execution_count": 3,
   "metadata": {},
   "outputs": [],
   "source": [
    "# list option contracts\n",
    "call_contracts = list(client.list_options_contracts(\n",
    "        underlying_ticker=symbol,\n",
    "        contract_type='call',\n",
    "        expiration_date='2024-01-26',\n",
    "        as_of='2024-01-05',\n",
    "        # strike_price_gte=prev_week.close,\n",
    "        limit=1000,\n",
    "        ))"
   ]
  },
  {
   "cell_type": "code",
   "execution_count": 4,
   "metadata": {},
   "outputs": [],
   "source": [
    "# list option history\n",
    "option_history = list(client.list_aggs(\n",
    "    ticker='O:TQQQ240126C00046000', # contract.ticker\n",
    "    multiplier=1, \n",
    "    timespan='day',\n",
    "    from_='2024-01-05', \n",
    "    to='2024-02-26',\n",
    "    # prev_week.date, next_week.date,\n",
    "    adjusted=False))"
   ]
  },
  {
   "cell_type": "code",
   "execution_count": 5,
   "metadata": {},
   "outputs": [],
   "source": [
    "# convert timestamps to dates\n",
    "for a in option_history:\n",
    "    a.timestamp = date.fromtimestamp(a.timestamp/1000) # Sunday for weekly data"
   ]
  }
 ],
 "metadata": {
  "kernelspec": {
   "display_name": "Python 3",
   "language": "python",
   "name": "python3"
  },
  "language_info": {
   "codemirror_mode": {
    "name": "ipython",
    "version": 3
   },
   "file_extension": ".py",
   "mimetype": "text/x-python",
   "name": "python",
   "nbconvert_exporter": "python",
   "pygments_lexer": "ipython3",
   "version": "3.12.3"
  }
 },
 "nbformat": 4,
 "nbformat_minor": 2
}
