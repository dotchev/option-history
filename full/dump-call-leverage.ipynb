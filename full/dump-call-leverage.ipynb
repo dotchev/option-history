{
 "cells": [
  {
   "cell_type": "code",
   "execution_count": 1,
   "metadata": {},
   "outputs": [],
   "source": [
    "import os\n",
    "import json\n",
    "from datetime import date\n",
    "from statistics import median\n",
    "from file import load_all"
   ]
  },
  {
   "cell_type": "code",
   "execution_count": 2,
   "metadata": {},
   "outputs": [
    {
     "name": "stdout",
     "output_type": "stream",
     "text": [
      "USD: 32 expirations\n",
      "SMH: 101 expirations\n",
      "TSLA: 143 expirations\n",
      "QQQ: 145 expirations\n",
      "AMZN: 151 expirations\n",
      "NFLX: 138 expirations\n",
      "MSFT: 153 expirations\n",
      "SNOW: 119 expirations\n",
      "SHOP: 122 expirations\n",
      "IHI: 46 expirations\n",
      "NET: 132 expirations\n",
      "GOOGL: 153 expirations\n",
      "SPY: 155 expirations\n",
      "MAGS: 16 expirations\n",
      "SOXL: 122 expirations\n",
      "AAPL: 151 expirations\n",
      "TQQQ: 122 expirations\n",
      "SQ: 124 expirations\n",
      "CRM: 124 expirations\n",
      "WDAY: 79 expirations\n",
      "NOW: 95 expirations\n",
      "FNGS: 25 expirations\n",
      "NVDA: 154 expirations\n",
      "Call leverages saved under option_leverage\n"
     ]
    }
   ],
   "source": [
    "dir = 'option_leverage'\n",
    "os.makedirs(dir, exist_ok=True)\n",
    "\n",
    "for symbol, data in load_all().items():\n",
    "  details = data['ticker_details']\n",
    "  leverage_history = {}\n",
    "  for w in data['options_weekly']:\n",
    "    today = w['day'].date\n",
    "    for p in w['options']:\n",
    "      c = p['contract']\n",
    "      expiration_date = date.fromisoformat(c.expiration_date)\n",
    "      if expiration_date.isoweekday() == 5:\n",
    "        expiration_weeks = round((expiration_date - today).days / 7)\n",
    "        if expiration_weeks > 0 and p['history'] and p['history'][0].date == today:\n",
    "          call_price = p['history'][0].close\n",
    "          lvr = c.strike_price / call_price\n",
    "          if expiration_weeks not in leverage_history:\n",
    "            leverage_history[expiration_weeks] = []\n",
    "          leverage_history[expiration_weeks].append(lvr)\n",
    "\n",
    "  leverage = {w: median(v) for w, v in leverage_history.items()}\n",
    "\n",
    "  # normalize values so longer expirations have lower leverage\n",
    "  leverage = {k: v for k, v in zip(sorted(leverage.keys()), sorted(leverage.values(), reverse=True))}\n",
    "\n",
    "  print(f'{symbol}: {len(leverage)} expirations')\n",
    "  with open(f'{dir}/{symbol}.json', 'w') as json_file:\n",
    "    json.dump(leverage, json_file, indent=4, sort_keys=True)\n",
    "\n",
    "print(f'Call leverages saved under {dir}')"
   ]
  }
 ],
 "metadata": {
  "kernelspec": {
   "display_name": "Python 3",
   "language": "python",
   "name": "python3"
  },
  "language_info": {
   "codemirror_mode": {
    "name": "ipython",
    "version": 3
   },
   "file_extension": ".py",
   "mimetype": "text/x-python",
   "name": "python",
   "nbconvert_exporter": "python",
   "pygments_lexer": "ipython3",
   "version": "3.12.3"
  }
 },
 "nbformat": 4,
 "nbformat_minor": 2
}
